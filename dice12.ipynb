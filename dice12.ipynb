{
 "cells": [
  {
   "cell_type": "code",
   "execution_count": 1,
   "id": "7e368db6-1fb9-454d-82e0-a6bb6b79c6f1",
   "metadata": {},
   "outputs": [],
   "source": [
    "import numpy as np"
   ]
  },
  {
   "cell_type": "code",
   "execution_count": 4,
   "id": "9771ea07-bea4-46dc-aa28-027faf6396c4",
   "metadata": {},
   "outputs": [],
   "source": [
    "A = np.zeros( ( 7, 7 ) )\n"
   ]
  },
  {
   "cell_type": "code",
   "execution_count": 5,
   "id": "dca0b8f4-28e0-4ebd-a819-51c2c2dc49c2",
   "metadata": {},
   "outputs": [
    {
     "data": {
      "text/plain": [
       "array([[0.        , 1.        , 0.        , 0.        , 0.        ,\n",
       "        0.        , 0.        ],\n",
       "       [0.        , 0.16666667, 0.83333333, 0.        , 0.        ,\n",
       "        0.        , 0.        ],\n",
       "       [0.        , 0.        , 0.33333333, 0.66666667, 0.        ,\n",
       "        0.        , 0.        ],\n",
       "       [0.        , 0.        , 0.        , 0.5       , 0.5       ,\n",
       "        0.        , 0.        ],\n",
       "       [0.        , 0.        , 0.        , 0.        , 0.66666667,\n",
       "        0.33333333, 0.        ],\n",
       "       [0.        , 0.        , 0.        , 0.        , 0.        ,\n",
       "        0.83333333, 0.16666667],\n",
       "       [0.        , 0.        , 0.        , 0.        , 0.        ,\n",
       "        0.        , 1.        ]])"
      ]
     },
     "execution_count": 5,
     "metadata": {},
     "output_type": "execute_result"
    }
   ],
   "source": [
    "for i in range( 1, 6 ):\n",
    "    A[ i, i ] = i / 6\n",
    "    A[ i, i + 1 ] = 1 - i / 6\n",
    "A[ 0, 1 ] = 1\n",
    "A[ 6, 6 ] = 1\n",
    "A"
   ]
  },
  {
   "cell_type": "code",
   "execution_count": 30,
   "id": "593e50a7-a0aa-4fef-af1f-52874dea6ca2",
   "metadata": {},
   "outputs": [],
   "source": [
    "def expectation_sides( n ):\n",
    "    for i in range( 1, n ):\n",
    "        print( i, np.linalg.matrix_power( A, i )[ 0 ] @ np.arange( 7 ) )\n",
    "    return"
   ]
  },
  {
   "cell_type": "code",
   "execution_count": 31,
   "id": "035c4572-a342-4eda-bc82-036b316de735",
   "metadata": {},
   "outputs": [
    {
     "name": "stdout",
     "output_type": "stream",
     "text": [
      "1 1.0\n",
      "2 1.8333333333333335\n",
      "3 2.527777777777778\n",
      "4 3.106481481481482\n",
      "5 3.588734567901235\n",
      "6 3.9906121399176966\n",
      "7 4.32551011659808\n",
      "8 4.604591763831733\n",
      "9 4.837159803193112\n",
      "10 5.030966502660927\n",
      "11 5.192472085550772\n",
      "12 5.32706007129231\n",
      "13 5.439216726076926\n",
      "14 5.532680605064105\n",
      "15 5.610567170886755\n",
      "16 5.675472642405627\n",
      "17 5.729560535338025\n",
      "18 5.774633779448354\n",
      "19 5.812194816206962\n",
      "20 5.8434956801724685\n",
      "21 5.869579733477058\n",
      "22 5.8913164445642145\n",
      "23 5.909430370470179\n",
      "24 5.92452530872515\n"
     ]
    }
   ],
   "source": [
    "expectation_sides( 25 )"
   ]
  },
  {
   "cell_type": "code",
   "execution_count": 13,
   "id": "e95913f2-c24a-469f-b877-20a90a0cfccf",
   "metadata": {},
   "outputs": [
    {
     "data": {
      "text/plain": [
       "array([[0.        , 1.        , 0.        , 0.        , 0.        ,\n",
       "        0.        , 0.        ],\n",
       "       [0.        , 0.00462963, 0.5787037 , 0.        , 0.        ,\n",
       "        0.        , 0.        ],\n",
       "       [0.        , 0.        , 0.03703704, 0.2962963 , 0.        ,\n",
       "        0.        , 0.        ],\n",
       "       [0.        , 0.        , 0.        , 0.125     , 0.125     ,\n",
       "        0.        , 0.        ],\n",
       "       [0.        , 0.        , 0.        , 0.        , 0.2962963 ,\n",
       "        0.03703704, 0.        ],\n",
       "       [0.        , 0.        , 0.        , 0.        , 0.        ,\n",
       "        0.5787037 , 0.00462963],\n",
       "       [0.        , 0.        , 0.        , 0.        , 0.        ,\n",
       "        0.        , 1.        ]])"
      ]
     },
     "execution_count": 13,
     "metadata": {},
     "output_type": "execute_result"
    }
   ],
   "source": [
    "A**3"
   ]
  },
  {
   "cell_type": "code",
   "execution_count": 14,
   "id": "96ccde64-6cee-4943-89dc-63d47b370d72",
   "metadata": {},
   "outputs": [],
   "source": [
    "x = np.arange(9).reshape(3,3)\n",
    "y = np.matrix(x)\n",
    "\n",
    "a = y**3\n",
    "b = np.linalg.matrix_power(x, 3)\n"
   ]
  },
  {
   "cell_type": "code",
   "execution_count": 22,
   "id": "ce501ec3-bf42-4951-9d83-8593e9d73513",
   "metadata": {},
   "outputs": [
    {
     "data": {
      "text/plain": [
       "array([[ 15,  18,  21],\n",
       "       [ 42,  54,  66],\n",
       "       [ 69,  90, 111]])"
      ]
     },
     "execution_count": 22,
     "metadata": {},
     "output_type": "execute_result"
    }
   ],
   "source": [
    "x @ x"
   ]
  },
  {
   "cell_type": "code",
   "execution_count": 25,
   "id": "aab5dba9-02b4-424f-a240-8d2b14c6376b",
   "metadata": {},
   "outputs": [
    {
     "data": {
      "text/plain": [
       "matrix([[ 15,  18,  21],\n",
       "        [ 42,  54,  66],\n",
       "        [ 69,  90, 111]])"
      ]
     },
     "execution_count": 25,
     "metadata": {},
     "output_type": "execute_result"
    }
   ],
   "source": [
    "y**2"
   ]
  },
  {
   "cell_type": "code",
   "execution_count": null,
   "id": "091bcb8c-f445-41b0-b2cc-2ec6c9a86302",
   "metadata": {},
   "outputs": [],
   "source": []
  }
 ],
 "metadata": {
  "kernelspec": {
   "display_name": "Python 3 (ipykernel)",
   "language": "python",
   "name": "python3"
  },
  "language_info": {
   "codemirror_mode": {
    "name": "ipython",
    "version": 3
   },
   "file_extension": ".py",
   "mimetype": "text/x-python",
   "name": "python",
   "nbconvert_exporter": "python",
   "pygments_lexer": "ipython3",
   "version": "3.8.8"
  }
 },
 "nbformat": 4,
 "nbformat_minor": 5
}
