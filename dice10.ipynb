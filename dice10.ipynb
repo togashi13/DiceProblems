{
 "cells": [
  {
   "cell_type": "code",
   "execution_count": 1,
   "id": "5c82ca40-83ff-45b5-bb7b-ff1a30dc3afa",
   "metadata": {},
   "outputs": [],
   "source": [
    "import numpy as np"
   ]
  },
  {
   "cell_type": "code",
   "execution_count": 23,
   "id": "b185768b-8d7f-4763-af1b-72eed0f5c40a",
   "metadata": {},
   "outputs": [],
   "source": [
    "# A[ 0, 1 ] = 1\n",
    "# A[ 1, 2 ] = 1/6\n",
    "# A[ 1, 3 ] = 5/6\n",
    "# A[ 2, 0 ] = 1/3\n",
    "# A[ 2, 2 ] = 1/6\n",
    "# A[ 2, 4 ] = 5/6\n",
    "# A[ 3, 4 ] = 1/3\n",
    "# A[ 3, 6 ] = 2/3\n",
    "# A[ 4, 4 ] = 1/6\n",
    "# A[ 4, 5 ] = 1/6\n",
    "# A[ 4, 7 ] = 2/3\n",
    "# A[ 5, 5 ] = 1/3\n",
    "# A[ 5, 8 ] = 2/3\n"
   ]
  },
  {
   "cell_type": "code",
   "execution_count": 5,
   "id": "88ddda02-1839-4fff-9d1d-707b0a3b5487",
   "metadata": {},
   "outputs": [
    {
     "data": {
      "text/plain": [
       "array([0.        , 0.        , 0.        , 0.        , 0.33333333,\n",
       "       0.        , 0.66666667, 0.        , 0.        , 0.        ,\n",
       "       0.        , 0.        , 0.        , 0.        , 0.        ,\n",
       "       0.        , 0.        , 0.        , 0.        , 0.        ,\n",
       "       0.        , 0.        , 0.        , 0.        , 0.        ,\n",
       "       0.        , 0.        , 0.        ])"
      ]
     },
     "execution_count": 5,
     "metadata": {},
     "output_type": "execute_result"
    }
   ],
   "source": [
    "A[3]"
   ]
  },
  {
   "cell_type": "code",
   "execution_count": 7,
   "id": "28c1e7cd-feba-4783-ab18-824d3b8e2727",
   "metadata": {},
   "outputs": [],
   "source": [
    "def index_to_state_translator( i ):\n",
    "    if i == 0:\n",
    "        return [ 0, 0 ]\n",
    "    elif i == 1:\n",
    "        return [ 1, 0 ]\n",
    "    elif i == 2:\n",
    "        return [ 1, 1 ]\n",
    "    elif i == 3:\n",
    "        return [ 2, 0 ]\n",
    "    elif i == 4:\n",
    "        return [ 2, 1 ]\n",
    "    elif i == 5:\n",
    "        return [ 2, 2 ]\n",
    "    elif i == 6:\n",
    "        return [ 3, 0 ]\n",
    "    elif i == 7:\n",
    "        return [ 3, 1 ]\n",
    "    elif i == 8:\n",
    "        return [ 3, 2 ]\n",
    "    elif i == 9:\n",
    "        return [ 3, 3 ]\n",
    "    elif i == 10:\n",
    "        return [ 4, 0 ]\n",
    "    elif i == 11:\n",
    "        return [ 4, 1 ]\n",
    "    elif i == 12:\n",
    "        return [ 4, 2 ]\n",
    "    elif i == 13:\n",
    "        return [ 4, 3 ]\n",
    "    elif i == 14:\n",
    "        return [ 4, 4 ]\n",
    "    elif i == 15:\n",
    "        return [ 5, 0 ]\n",
    "    elif i == 16:\n",
    "        return [ 5, 1 ]\n",
    "    elif i == 17:\n",
    "        return [ 5, 2 ]\n",
    "    elif i == 18:\n",
    "        return [ 5, 3 ]\n",
    "    elif i == 19:\n",
    "        return [ 5, 4 ]\n",
    "    elif i == 20:\n",
    "        return [ 5, 5 ]\n",
    "    elif i == 21:\n",
    "        return [ 6, 0 ]\n",
    "    elif i == 22:\n",
    "        return [ 6, 1 ]\n",
    "    elif i == 23:\n",
    "        return [ 6, 2 ]\n",
    "    elif i == 24:\n",
    "        return [ 6, 3 ]\n",
    "    elif i == 25:\n",
    "        return [ 6, 4 ]\n",
    "    elif i == 26:\n",
    "        return [ 6, 5 ]\n",
    "    elif i == 27:\n",
    "        return [ 6, 6 ]"
   ]
  },
  {
   "cell_type": "code",
   "execution_count": 31,
   "id": "2f5843e2-d138-4dc9-900b-f180b22449b0",
   "metadata": {},
   "outputs": [],
   "source": [
    "A = np.zeros( ( 28, 28 ) )\n",
    "for i in range(27):\n",
    "    [ a, b ] = index_to_state_translator( i )    \n",
    "    if a == b:\n",
    "        if a == 6:\n",
    "            A[ i, i ] = 1\n",
    "        else:\n",
    "            A[ i, i ] = a / 6\n",
    "            A[ i, i + a + 1 ] = 1 - a / 6\n",
    "    elif a > b:\n",
    "        if b == 0:\n",
    "            if a == 6:\n",
    "                A[ i, i + 1 ] = 1\n",
    "            else:    \n",
    "                A[ i, i + 1 ] = a / 6  \n",
    "                A[ i, i + a + 1 ] = 1 - a / 6 # e.g. state(2,0) to (3,0), index going up 2+1, the length of states start with a\n",
    "        else:\n",
    "            if a == 6:\n",
    "                A[ i, i ] = b / 6\n",
    "                A[ i, i + 1 ] = ( a - b ) / 6\n",
    "            else:\n",
    "                A[ i, i ] = b / 6  \n",
    "                A[ i, i + 1 ] = ( a - b ) / 6\n",
    "                A[ i, i + a + 1 ] = ( 6 - a ) / 6\n",
    "            \n"
   ]
  },
  {
   "cell_type": "code",
   "execution_count": 32,
   "id": "fc954564-8139-4bbe-805e-fc054cbb5363",
   "metadata": {},
   "outputs": [
    {
     "data": {
      "text/plain": [
       "array([ True,  True,  True, False, False,  True,  True,  True,  True,\n",
       "        True,  True,  True,  True,  True,  True,  True,  True,  True,\n",
       "        True,  True,  True,  True,  True,  True,  True,  True,  True,\n",
       "        True])"
      ]
     },
     "execution_count": 32,
     "metadata": {},
     "output_type": "execute_result"
    }
   ],
   "source": [
    "A[2] == A[ 1 ]"
   ]
  },
  {
   "cell_type": "code",
   "execution_count": 33,
   "id": "5e11d0be-cbda-4e58-8620-ce6197a8ab20",
   "metadata": {},
   "outputs": [
    {
     "data": {
      "text/plain": [
       "array([[24.1338692 ],\n",
       "       [23.1338692 ],\n",
       "       [22.84963278],\n",
       "       [21.99071648],\n",
       "       [21.64963278],\n",
       "       [21.28298611],\n",
       "       [20.66125833],\n",
       "       [20.24129444],\n",
       "       [19.78298611],\n",
       "       [19.27777778],\n",
       "       [19.08122222],\n",
       "       [18.54683333],\n",
       "       [17.95138889],\n",
       "       [17.27777778],\n",
       "       [16.5       ],\n",
       "       [17.15      ],\n",
       "       [16.44      ],\n",
       "       [15.625     ],\n",
       "       [14.66666667],\n",
       "       [13.5       ],\n",
       "       [12.        ],\n",
       "       [14.7       ],\n",
       "       [13.7       ],\n",
       "       [12.5       ],\n",
       "       [11.        ],\n",
       "       [ 9.        ],\n",
       "       [ 6.        ]])"
      ]
     },
     "execution_count": 33,
     "metadata": {},
     "output_type": "execute_result"
    }
   ],
   "source": [
    "np.linalg.inv( np.identity( 27 ) - A[ :27, :27 ] ) @ np.ones( ( 27, 1 ) )"
   ]
  },
  {
   "cell_type": "code",
   "execution_count": null,
   "id": "55edb106-71a0-471d-a079-3a1cb94193c2",
   "metadata": {},
   "outputs": [],
   "source": []
  }
 ],
 "metadata": {
  "kernelspec": {
   "display_name": "Python 3 (ipykernel)",
   "language": "python",
   "name": "python3"
  },
  "language_info": {
   "codemirror_mode": {
    "name": "ipython",
    "version": 3
   },
   "file_extension": ".py",
   "mimetype": "text/x-python",
   "name": "python",
   "nbconvert_exporter": "python",
   "pygments_lexer": "ipython3",
   "version": "3.8.8"
  }
 },
 "nbformat": 4,
 "nbformat_minor": 5
}
