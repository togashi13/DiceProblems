{
 "cells": [
  {
   "cell_type": "code",
   "execution_count": 1,
   "id": "0c6579e4-f31b-4eb8-8a41-75bbb6e7a34b",
   "metadata": {},
   "outputs": [],
   "source": [
    "import numpy as np"
   ]
  },
  {
   "cell_type": "code",
   "execution_count": 2,
   "id": "ee7a2902-be03-4524-b100-55b3d2dc90c2",
   "metadata": {},
   "outputs": [],
   "source": [
    "r = np.array( [ [ 0, 1, 0, 0, 0, 0, 0 ], [ 0, 1/6, 5/6, 0, 0, 0, 0 ], [ 0, 0, 1/3, 2/3, 0, 0, 0 ], [ 0, 0, 0, 1/2, 1/2, 0, 0],\n",
    "               [ 0, 0, 0, 0, 2/3, 1/3, 0 ], [ 0, 0, 0, 0, 0, 5/6, 1/6 ], [ 0, 0, 0, 0, 0, 0, 1 ] ] )"
   ]
  },
  {
   "cell_type": "code",
   "execution_count": 3,
   "id": "58bf7ac4-a45c-4412-92ca-0c5a55d4f9ca",
   "metadata": {},
   "outputs": [
    {
     "data": {
      "text/plain": [
       "array([[0.        , 1.        , 0.        , 0.        , 0.        ,\n",
       "        0.        , 0.        ],\n",
       "       [0.        , 0.16666667, 0.83333333, 0.        , 0.        ,\n",
       "        0.        , 0.        ],\n",
       "       [0.        , 0.        , 0.33333333, 0.66666667, 0.        ,\n",
       "        0.        , 0.        ],\n",
       "       [0.        , 0.        , 0.        , 0.5       , 0.5       ,\n",
       "        0.        , 0.        ],\n",
       "       [0.        , 0.        , 0.        , 0.        , 0.66666667,\n",
       "        0.33333333, 0.        ],\n",
       "       [0.        , 0.        , 0.        , 0.        , 0.        ,\n",
       "        0.83333333, 0.16666667],\n",
       "       [0.        , 0.        , 0.        , 0.        , 0.        ,\n",
       "        0.        , 1.        ]])"
      ]
     },
     "execution_count": 3,
     "metadata": {},
     "output_type": "execute_result"
    }
   ],
   "source": [
    "r"
   ]
  },
  {
   "cell_type": "code",
   "execution_count": 11,
   "id": "c77f93dd-c583-45d4-a61f-c8dd6ccae99b",
   "metadata": {},
   "outputs": [
    {
     "data": {
      "text/plain": [
       "array([[14.7],\n",
       "       [13.7],\n",
       "       [12.5],\n",
       "       [11. ],\n",
       "       [ 9. ],\n",
       "       [ 6. ]])"
      ]
     },
     "execution_count": 11,
     "metadata": {},
     "output_type": "execute_result"
    }
   ],
   "source": [
    "np.linalg.inv( np.identity( 6 ) - r[ :6, :6 ] ) @ np.ones( ( 6, 1 ) )  "
   ]
  },
  {
   "cell_type": "code",
   "execution_count": 6,
   "id": "f931c16a-0d80-4e16-8f26-fba98f599c0e",
   "metadata": {},
   "outputs": [
    {
     "data": {
      "text/plain": [
       "array([[0.        , 1.        , 0.        , 0.        , 0.        ,\n",
       "        0.        ],\n",
       "       [0.        , 0.16666667, 0.83333333, 0.        , 0.        ,\n",
       "        0.        ],\n",
       "       [0.        , 0.        , 0.33333333, 0.66666667, 0.        ,\n",
       "        0.        ],\n",
       "       [0.        , 0.        , 0.        , 0.5       , 0.5       ,\n",
       "        0.        ],\n",
       "       [0.        , 0.        , 0.        , 0.        , 0.66666667,\n",
       "        0.33333333],\n",
       "       [0.        , 0.        , 0.        , 0.        , 0.        ,\n",
       "        0.83333333]])"
      ]
     },
     "execution_count": 6,
     "metadata": {},
     "output_type": "execute_result"
    }
   ],
   "source": []
  },
  {
   "cell_type": "code",
   "execution_count": null,
   "id": "5cd2feb9-b763-4aca-b805-1cc6c97a5e6e",
   "metadata": {},
   "outputs": [],
   "source": []
  }
 ],
 "metadata": {
  "kernelspec": {
   "display_name": "Python 3 (ipykernel)",
   "language": "python",
   "name": "python3"
  },
  "language_info": {
   "codemirror_mode": {
    "name": "ipython",
    "version": 3
   },
   "file_extension": ".py",
   "mimetype": "text/x-python",
   "name": "python",
   "nbconvert_exporter": "python",
   "pygments_lexer": "ipython3",
   "version": "3.8.8"
  }
 },
 "nbformat": 4,
 "nbformat_minor": 5
}
