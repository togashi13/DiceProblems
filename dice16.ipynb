{
 "cells": [
  {
   "cell_type": "code",
   "execution_count": 5,
   "id": "45ff9aac-e361-40ee-834f-31f065dabfe7",
   "metadata": {},
   "outputs": [],
   "source": [
    "import math\n",
    "import itertools"
   ]
  },
  {
   "cell_type": "code",
   "execution_count": 2,
   "id": "803168c5-e2a9-4d95-a08b-24864b42e56f",
   "metadata": {},
   "outputs": [
    {
     "data": {
      "text/plain": [
       "16.431037153437266"
      ]
     },
     "execution_count": 2,
     "metadata": {},
     "output_type": "execute_result"
    }
   ],
   "source": [
    "math.log( 0.05, 5/6 )"
   ]
  },
  {
   "cell_type": "code",
   "execution_count": 3,
   "id": "6f625bc6-df37-4c54-b35f-57733a6a042a",
   "metadata": {},
   "outputs": [
    {
     "data": {
      "text/plain": [
       "25.258506273026672"
      ]
     },
     "execution_count": 3,
     "metadata": {},
     "output_type": "execute_result"
    }
   ],
   "source": [
    "math.log( 0.01, 5/6 )"
   ]
  },
  {
   "cell_type": "code",
   "execution_count": 4,
   "id": "fcda9b2a-4a81-4a51-81f7-996652e7f523",
   "metadata": {},
   "outputs": [
    {
     "data": {
      "text/plain": [
       "37.88775940954001"
      ]
     },
     "execution_count": 4,
     "metadata": {},
     "output_type": "execute_result"
    }
   ],
   "source": [
    "math.log( 0.001, 5/6 )"
   ]
  },
  {
   "cell_type": "code",
   "execution_count": 6,
   "id": "6f3dc9ad-bccf-4366-8ae9-a538a05c57c7",
   "metadata": {},
   "outputs": [],
   "source": [
    "def A_1N2( a ):\n",
    "    for n in itertools.count( 2 ):\n",
    "        if 1 - 2 * ( 5 / 6 ) ** n + ( 2 / 3 ) ** n > a:\n",
    "            return n\n",
    "        if n == 100:\n",
    "            print( 'limit reached, probability = ', 1 - 2 * ( 5 / 6 ) ** n + ( 2 / 3 ) ** n )\n",
    "            return -1"
   ]
  },
  {
   "cell_type": "code",
   "execution_count": 7,
   "id": "ebb9b567-a39f-48d4-b63a-11ae1c9db660",
   "metadata": {},
   "outputs": [
    {
     "data": {
      "text/plain": [
       "21"
      ]
     },
     "execution_count": 7,
     "metadata": {},
     "output_type": "execute_result"
    }
   ],
   "source": [
    "A_1N2( 0.95 )"
   ]
  },
  {
   "cell_type": "code",
   "execution_count": 8,
   "id": "419824a3-f26a-43a1-b1d2-3f169d80bda8",
   "metadata": {},
   "outputs": [
    {
     "data": {
      "text/plain": [
       "30"
      ]
     },
     "execution_count": 8,
     "metadata": {},
     "output_type": "execute_result"
    }
   ],
   "source": [
    "A_1N2( 0.99 )"
   ]
  },
  {
   "cell_type": "code",
   "execution_count": 9,
   "id": "50aa5d06-b9ac-4a1b-83a6-ba057406963c",
   "metadata": {},
   "outputs": [
    {
     "data": {
      "text/plain": [
       "42"
      ]
     },
     "execution_count": 9,
     "metadata": {},
     "output_type": "execute_result"
    }
   ],
   "source": [
    "A_1N2( 0.999 )"
   ]
  },
  {
   "cell_type": "code",
   "execution_count": 13,
   "id": "4cfa0f9e-e3fb-4194-87f2-c8de4002448f",
   "metadata": {},
   "outputs": [],
   "source": [
    "def A_1N2N3( a ):\n",
    "    for n in itertools.count( 2 ):\n",
    "        if 1 - ( 1 / 2 ) ** n - 3 * ( 1 - ( 5 / 6 ) ** n ) + 3 * ( 1 - 2 * ( 5 / 6 ) ** n + ( 2 / 3 ) ** n ) > a:\n",
    "            return n\n",
    "        if n == 100:\n",
    "            print( 'limit reached, probability = ', 1 - 2 * ( 5 / 6 ) ** n + ( 2 / 3 ) ** n )\n",
    "            return -1"
   ]
  },
  {
   "cell_type": "code",
   "execution_count": 14,
   "id": "5bd04c84-9033-40e7-8d15-88359a1164f2",
   "metadata": {},
   "outputs": [
    {
     "data": {
      "text/plain": [
       "23"
      ]
     },
     "execution_count": 14,
     "metadata": {},
     "output_type": "execute_result"
    }
   ],
   "source": [
    "A_1N2N3( 0.95 )"
   ]
  },
  {
   "cell_type": "code",
   "execution_count": 15,
   "id": "2f3b8ad3-ac17-47a8-a3e2-f3a34be386d2",
   "metadata": {},
   "outputs": [
    {
     "data": {
      "text/plain": [
       "32"
      ]
     },
     "execution_count": 15,
     "metadata": {},
     "output_type": "execute_result"
    }
   ],
   "source": [
    "A_1N2N3( 0.99 )"
   ]
  },
  {
   "cell_type": "code",
   "execution_count": 51,
   "id": "d4eff76d-fa55-4997-8caa-89ee838d4882",
   "metadata": {},
   "outputs": [],
   "source": [
    "def A_n( n, m ):\n",
    "    # n-sides union, m rolls\n",
    "    if n == 1:\n",
    "        return 1 - ( 5 / 6 ) ** m \n",
    "    p = 0\n",
    "    for size in range( 1, n ):\n",
    "        p += ( -1 ) ** ( size - 1 ) * math.comb( n , size ) * A_n( size, m )\n",
    "    if n % 2 == 0:\n",
    "        return p - ( 1 - ( 1 - n / 6 ) ** m )\n",
    "    else:\n",
    "        return ( 1 - ( 1 - n / 6 ) ** m ) - p"
   ]
  },
  {
   "cell_type": "code",
   "execution_count": 52,
   "id": "0f55bb2e-c2b4-4f5a-b216-398773f0c334",
   "metadata": {},
   "outputs": [],
   "source": [
    "def A_na( a ):\n",
    "    for n_of_rolls in itertools.count( 2 ):\n",
    "        if A_n( 6, n_of_rolls ) > a:\n",
    "            return n_of_rolls\n"
   ]
  },
  {
   "cell_type": "code",
   "execution_count": 53,
   "id": "2e77d673-3d6c-450e-93eb-02f909c3fd11",
   "metadata": {},
   "outputs": [
    {
     "data": {
      "text/plain": [
       "27"
      ]
     },
     "execution_count": 53,
     "metadata": {},
     "output_type": "execute_result"
    }
   ],
   "source": [
    "A_na( 0.95 )"
   ]
  },
  {
   "cell_type": "code",
   "execution_count": 54,
   "id": "b2cb5d77-d7d8-4e90-9016-309926912430",
   "metadata": {},
   "outputs": [
    {
     "data": {
      "text/plain": [
       "36"
      ]
     },
     "execution_count": 54,
     "metadata": {},
     "output_type": "execute_result"
    }
   ],
   "source": [
    "A_na( 0.99 )"
   ]
  },
  {
   "cell_type": "code",
   "execution_count": 55,
   "id": "d8ab6373-44eb-45cb-bc86-22c58b2dd65c",
   "metadata": {},
   "outputs": [
    {
     "data": {
      "text/plain": [
       "48"
      ]
     },
     "execution_count": 55,
     "metadata": {},
     "output_type": "execute_result"
    }
   ],
   "source": [
    "A_na( 0.999 )"
   ]
  },
  {
   "cell_type": "code",
   "execution_count": 56,
   "id": "d1fdec7b-8fd0-4229-9c12-d8a13bc3ff77",
   "metadata": {},
   "outputs": [
    {
     "data": {
      "text/plain": [
       "0.9959190895269376"
      ]
     },
     "execution_count": 56,
     "metadata": {},
     "output_type": "execute_result"
    }
   ],
   "source": [
    "A_n( 6, 40 )"
   ]
  },
  {
   "cell_type": "code",
   "execution_count": null,
   "id": "8dd02ffb-db18-4972-a4e5-7fe3d9743aac",
   "metadata": {},
   "outputs": [],
   "source": []
  }
 ],
 "metadata": {
  "kernelspec": {
   "display_name": "Python 3 (ipykernel)",
   "language": "python",
   "name": "python3"
  },
  "language_info": {
   "codemirror_mode": {
    "name": "ipython",
    "version": 3
   },
   "file_extension": ".py",
   "mimetype": "text/x-python",
   "name": "python",
   "nbconvert_exporter": "python",
   "pygments_lexer": "ipython3",
   "version": "3.8.8"
  }
 },
 "nbformat": 4,
 "nbformat_minor": 5
}
