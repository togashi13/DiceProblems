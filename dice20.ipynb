{
 "cells": [
  {
   "cell_type": "code",
   "execution_count": 25,
   "id": "fc9ae151-20a0-4257-9593-9946ceeb672c",
   "metadata": {},
   "outputs": [],
   "source": [
    "def p_na( n, a ):\n",
    "    res = 0\n",
    "    if n == 1:\n",
    "        # for i in range( 1, 7 ):\n",
    "        #     p_na( 1, i ) = ( 7 - i ) / 6\n",
    "        return 1\n",
    "    for i in range( a, 7 ):\n",
    "        res += p_na( n - 1, i ) / 6\n",
    "    return res"
   ]
  },
  {
   "cell_type": "code",
   "execution_count": 27,
   "id": "95df7d2b-7cfc-472a-aacd-204f82f211a6",
   "metadata": {},
   "outputs": [
    {
     "data": {
      "text/plain": [
       "4.9664129578824366e-05"
      ]
     },
     "execution_count": 27,
     "metadata": {},
     "output_type": "execute_result"
    }
   ],
   "source": [
    "ps = 0\n",
    "for i in range( 1, 7 ):\n",
    "    ps += p_na( 10, i ) / 6\n",
    "ps"
   ]
  },
  {
   "cell_type": "code",
   "execution_count": null,
   "id": "708a63f1-3361-4839-8cd7-2b92e4ca49e0",
   "metadata": {},
   "outputs": [],
   "source": []
  }
 ],
 "metadata": {
  "kernelspec": {
   "display_name": "Python 3 (ipykernel)",
   "language": "python",
   "name": "python3"
  },
  "language_info": {
   "codemirror_mode": {
    "name": "ipython",
    "version": 3
   },
   "file_extension": ".py",
   "mimetype": "text/x-python",
   "name": "python",
   "nbconvert_exporter": "python",
   "pygments_lexer": "ipython3",
   "version": "3.8.8"
  }
 },
 "nbformat": 4,
 "nbformat_minor": 5
}
