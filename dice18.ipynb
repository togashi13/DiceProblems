{
 "cells": [
  {
   "cell_type": "code",
   "execution_count": 1,
   "id": "826622d0-4aef-4de7-81d0-925a93e989ee",
   "metadata": {},
   "outputs": [],
   "source": [
    "import math\n",
    "def prob_n_6( n , m ):\n",
    "    # n 6s, m rolls\n",
    "    p = math.comb( m, n ) * 5 ** ( m - n ) / 6 ** m\n",
    "    return p"
   ]
  },
  {
   "cell_type": "code",
   "execution_count": 4,
   "id": "7901378d-446e-4a34-b035-a0b8206c7870",
   "metadata": {},
   "outputs": [],
   "source": [
    "def atleast_a( a, m ): \n",
    "    P_0to10_6s = 0\n",
    "    for n in range( a + 1 ):\n",
    "        P_0to10_6s += prob_n_6( n, 100 )\n",
    "    res = 1 - P_0to10_6s\n",
    "    return res"
   ]
  },
  {
   "cell_type": "code",
   "execution_count": 5,
   "id": "5d233af5-2b5d-42db-9d86-56060fb6cd51",
   "metadata": {},
   "outputs": [
    {
     "data": {
      "text/plain": [
       "0.9573043158529755"
      ]
     },
     "execution_count": 5,
     "metadata": {},
     "output_type": "execute_result"
    }
   ],
   "source": [
    "atleast_a( 10, 100 )"
   ]
  },
  {
   "cell_type": "code",
   "execution_count": 6,
   "id": "e8e9aaf4-150d-42f9-82a0-b9bc48543ed9",
   "metadata": {},
   "outputs": [
    {
     "data": {
      "text/plain": [
       "0.9999817358489056"
      ]
     },
     "execution_count": 6,
     "metadata": {},
     "output_type": "execute_result"
    }
   ],
   "source": [
    "atleast_a( 3, 5 )"
   ]
  },
  {
   "cell_type": "code",
   "execution_count": 2,
   "id": "47112af9-779a-4444-8fcd-9af59bf75a0c",
   "metadata": {},
   "outputs": [],
   "source": [
    "def p_np1( n, r, a ):\n",
    "    if n < r:\n",
    "        return 0\n",
    "    elif n == r:\n",
    "        return a ** r\n",
    "    else:\n",
    "        return p_np1( n - 1, r, a ) + ( 1 - p_np1( n - r - 1, r, a ) ) * ( 1 - a ) * a ** r "
   ]
  },
  {
   "cell_type": "code",
   "execution_count": 3,
   "id": "96f8f103-28ec-4f2c-af21-d69a7f9bda76",
   "metadata": {},
   "outputs": [
    {
     "name": "stdout",
     "output_type": "stream",
     "text": [
      "2.9251561164855957\n"
     ]
    }
   ],
   "source": [
    "import time\n",
    "\n",
    "start = time.time()\n",
    "r1 = p_np1( 100, 10, 1 / 6 )\n",
    "end = time.time()\n",
    "\n",
    "print(end - start)\n"
   ]
  },
  {
   "cell_type": "code",
   "execution_count": 41,
   "id": "c0773080-95bb-429c-bcf8-8c84a8d22e7b",
   "metadata": {},
   "outputs": [
    {
     "data": {
      "text/plain": [
       "True"
      ]
     },
     "execution_count": 41,
     "metadata": {},
     "output_type": "execute_result"
    }
   ],
   "source": [
    "r1 == r2"
   ]
  },
  {
   "cell_type": "code",
   "execution_count": 9,
   "id": "351af697-44e8-4206-bea2-6f78d39b49cf",
   "metadata": {},
   "outputs": [],
   "source": [
    "def fib( n ):\n",
    "    if n == 0:\n",
    "        return 0\n",
    "    elif n == 1 or n == 2:\n",
    "        return 1\n",
    "    else:\n",
    "        return fib( n - 1 ) + fib( n - 2 )"
   ]
  },
  {
   "cell_type": "code",
   "execution_count": 14,
   "id": "69e7c375-d890-4f93-9c07-fb1ee93d126c",
   "metadata": {},
   "outputs": [
    {
     "name": "stdout",
     "output_type": "stream",
     "text": [
      "0.21482491493225098\n"
     ]
    }
   ],
   "source": [
    "import time\n",
    "start = time.time( )\n",
    "fib( 30 )\n",
    "end = time.time( )\n",
    "print( end - start )"
   ]
  },
  {
   "cell_type": "code",
   "execution_count": 63,
   "id": "4c2ca0dd-745b-40d4-9d4d-905729ed670c",
   "metadata": {},
   "outputs": [],
   "source": [
    "memo = { }\n",
    "def p_np1m( n, r, a ):\n",
    "    if n in memo:\n",
    "        return memo[ n ]\n",
    "    if n < r:\n",
    "        memo[ n ] = 0\n",
    "        return 0\n",
    "    elif n == r:\n",
    "        memo[ n ] = a ** r\n",
    "        return a ** r\n",
    "    else:\n",
    "        term1 = p_np1m( n - 1, r, a )\n",
    "        memo[ n - 1 ] = term1\n",
    "        term2 = p_np1m( n - r - 1, r, a )\n",
    "        memo[ n - 2 ] = term2\n",
    "        return term1 + ( 1 - term2 ) * ( 1 - a ) * a ** r "
   ]
  },
  {
   "cell_type": "code",
   "execution_count": 54,
   "id": "08b057a8-6674-4192-8ec0-8c4c073e6bfa",
   "metadata": {},
   "outputs": [],
   "source": [
    "femo = { }\n",
    "def ffib( n ):\n",
    "    if n in femo:\n",
    "        return femo[ n ]\n",
    "    elif n <= 9:\n",
    "        femo[ n ] = 0\n",
    "        return 0\n",
    "    elif n == 10:\n",
    "        femo[ n ] = ( 1 / 6 ) ** 10\n",
    "        return ( 1 / 6 ) ** 10\n",
    "    else:\n",
    "        term1 = ffib( n - 1 )\n",
    "        femo[ n - 1 ] = term1\n",
    "        term2 = ffib( n - 11 )\n",
    "        femo[ n - 11 ] = term2\n",
    "        return term1 + ( 1 - term2 ) * ( 1 - 1 / 6 ) * ( 1 / 6 ) ** 10"
   ]
  },
  {
   "cell_type": "code",
   "execution_count": 55,
   "id": "7d6da895-2252-4c42-b192-db6cd8abf96c",
   "metadata": {},
   "outputs": [
    {
     "name": "stdout",
     "output_type": "stream",
     "text": [
      "9.298324584960938e-05\n"
     ]
    }
   ],
   "source": [
    "start = time.time( )\n",
    "r3 = ffib( 100 )\n",
    "end = time.time( )\n",
    "print( end - start )"
   ]
  },
  {
   "cell_type": "code",
   "execution_count": 64,
   "id": "b6e42a65-2d69-48a6-8e1c-d06007344074",
   "metadata": {},
   "outputs": [
    {
     "name": "stdout",
     "output_type": "stream",
     "text": [
      "0.00015592575073242188\n"
     ]
    }
   ],
   "source": [
    "start = time.time()\n",
    "r2 = p_np1m( 100, 10, 1 / 6 )\n",
    "end = time.time()\n",
    "\n",
    "print(end - start)"
   ]
  },
  {
   "cell_type": "code",
   "execution_count": 56,
   "id": "33a3880d-c337-41aa-8097-f68f94279de7",
   "metadata": {},
   "outputs": [
    {
     "data": {
      "text/plain": [
       "1.2569004298430466e-06"
      ]
     },
     "execution_count": 56,
     "metadata": {},
     "output_type": "execute_result"
    }
   ],
   "source": [
    "r3"
   ]
  },
  {
   "cell_type": "code",
   "execution_count": 61,
   "id": "0ef2ef86-96e6-4717-9d5f-3af63c597e6e",
   "metadata": {},
   "outputs": [],
   "source": [
    "memof = { }\n",
    "def p_np1fm( n ):\n",
    "    if n in memof:\n",
    "        return memof[ n ]\n",
    "    if n < 10:\n",
    "        memof[ n ] = 0\n",
    "        return 0\n",
    "    elif n == 10:\n",
    "        memof[ n ] = ( 1 / 6 ) ** 10\n",
    "        return ( 1 / 6 ) ** 10\n",
    "    else:\n",
    "        term1 = p_np1fm( n - 1 )\n",
    "        memof[ n - 1 ] = term1\n",
    "        term2 = p_np1fm( n - r - 1 )\n",
    "        memof[ n - 2 ] = term2\n",
    "        return term1 + ( 1 - term2 ) * ( 1 - 1 / 6 ) * ( 1 / 6 ) ** 10"
   ]
  },
  {
   "cell_type": "code",
   "execution_count": 62,
   "id": "dfaf1198-71e4-4fae-a8e0-c746072461cc",
   "metadata": {},
   "outputs": [
    {
     "name": "stdout",
     "output_type": "stream",
     "text": [
      "2.807245969772339\n"
     ]
    }
   ],
   "source": [
    "start = time.time()\n",
    "r4 = p_np1m( 100, 10, 1 / 6 )\n",
    "end = time.time()\n",
    "\n",
    "print(end - start)"
   ]
  },
  {
   "cell_type": "code",
   "execution_count": null,
   "id": "1d39b6bc-a9d5-4301-a025-11f999a2a86d",
   "metadata": {},
   "outputs": [],
   "source": []
  }
 ],
 "metadata": {
  "kernelspec": {
   "display_name": "Python 3 (ipykernel)",
   "language": "python",
   "name": "python3"
  },
  "language_info": {
   "codemirror_mode": {
    "name": "ipython",
    "version": 3
   },
   "file_extension": ".py",
   "mimetype": "text/x-python",
   "name": "python",
   "nbconvert_exporter": "python",
   "pygments_lexer": "ipython3",
   "version": "3.8.8"
  }
 },
 "nbformat": 4,
 "nbformat_minor": 5
}
