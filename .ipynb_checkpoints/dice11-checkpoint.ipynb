{
 "cells": [
  {
   "cell_type": "code",
   "execution_count": 1,
   "id": "df4f894f-f108-4384-bb63-c0a2345bc41f",
   "metadata": {},
   "outputs": [],
   "source": [
    "import numpy as np"
   ]
  },
  {
   "cell_type": "code",
   "execution_count": 5,
   "id": "ed97a972-b619-453d-99f6-a07109ee05b5",
   "metadata": {},
   "outputs": [
    {
     "data": {
      "text/plain": [
       "array([[0., 0., 0., 0., 0., 0., 0.],\n",
       "       [0., 0., 0., 0., 0., 0., 0.],\n",
       "       [0., 0., 0., 0., 0., 0., 0.],\n",
       "       [0., 0., 0., 0., 0., 0., 0.],\n",
       "       [0., 0., 0., 0., 0., 0., 0.],\n",
       "       [0., 0., 0., 0., 0., 0., 0.],\n",
       "       [0., 0., 0., 0., 0., 0., 0.]])"
      ]
     },
     "execution_count": 5,
     "metadata": {},
     "output_type": "execute_result"
    }
   ],
   "source": [
    "A = np.zeros( ( 7, 7 ) )\n",
    "A"
   ]
  },
  {
   "cell_type": "code",
   "execution_count": 9,
   "id": "9faf62cc-2bf0-42fc-a49d-996fa48a915a",
   "metadata": {},
   "outputs": [
    {
     "data": {
      "text/plain": [
       "array([[0.        , 0.16666667, 0.83333333, 0.        , 0.        ,\n",
       "        0.        , 0.        ],\n",
       "       [0.        , 0.02777778, 0.27777778, 0.69444444, 0.        ,\n",
       "        0.        , 0.        ],\n",
       "       [0.        , 0.        , 0.11111111, 0.44444444, 0.44444444,\n",
       "        0.        , 0.        ],\n",
       "       [0.        , 0.        , 0.        , 0.25      , 0.5       ,\n",
       "        0.25      , 0.        ],\n",
       "       [0.        , 0.        , 0.        , 0.        , 0.44444444,\n",
       "        0.44444444, 0.11111111],\n",
       "       [0.        , 0.        , 0.        , 0.        , 0.        ,\n",
       "        0.69444444, 0.30555556],\n",
       "       [0.        , 0.        , 0.        , 0.        , 0.        ,\n",
       "        0.        , 1.        ]])"
      ]
     },
     "execution_count": 9,
     "metadata": {},
     "output_type": "execute_result"
    }
   ],
   "source": [
    "for i in range( 1, 5 ):\n",
    "    A[ i, i ] = i**2 / 36 \n",
    "    A[ i, i + 1 ] = 2 * i * ( 6 - i ) / 36\n",
    "    A[ i, i + 2 ] = ( 6 - i )**2 / 36\n",
    "A[ 0, 1 ] = 1 / 6\n",
    "A[ 0, 2 ] = 5 / 6\n",
    "A[ 6, 6 ] = 1\n",
    "A[ 5, 5 ] = 25 / 36\n",
    "A[ 5, 6 ] = 11 / 36\n",
    "A"
   ]
  },
  {
   "cell_type": "code",
   "execution_count": 11,
   "id": "4273d890-8176-4de9-a9c7-64d40eecaf91",
   "metadata": {},
   "outputs": [
    {
     "data": {
      "text/plain": [
       "array([[7.1130772 ],\n",
       "       [6.58376623],\n",
       "       [6.01893939],\n",
       "       [5.36969697],\n",
       "       [4.41818182],\n",
       "       [3.27272727]])"
      ]
     },
     "execution_count": 11,
     "metadata": {},
     "output_type": "execute_result"
    }
   ],
   "source": [
    "np.linalg.inv( np.identity( 6 ) - A[ : 6, : 6 ] ) @ np.ones( ( 6, 1 ) )"
   ]
  },
  {
   "cell_type": "code",
   "execution_count": 12,
   "id": "76d57c69-4e17-40a6-abed-e1003260ab94",
   "metadata": {},
   "outputs": [
    {
     "data": {
      "text/plain": [
       "array([[0.        , 0.16666667, 0.83333333, 0.        , 0.        ,\n",
       "        0.        ],\n",
       "       [0.        , 0.02777778, 0.27777778, 0.69444444, 0.        ,\n",
       "        0.        ],\n",
       "       [0.        , 0.        , 0.11111111, 0.44444444, 0.44444444,\n",
       "        0.        ],\n",
       "       [0.        , 0.        , 0.        , 0.25      , 0.5       ,\n",
       "        0.25      ],\n",
       "       [0.        , 0.        , 0.        , 0.        , 0.44444444,\n",
       "        0.44444444],\n",
       "       [0.        , 0.        , 0.        , 0.        , 0.        ,\n",
       "        0.69444444]])"
      ]
     },
     "execution_count": 12,
     "metadata": {},
     "output_type": "execute_result"
    }
   ],
   "source": [
    "A[ : 6, : 6 ]"
   ]
  },
  {
   "cell_type": "code",
   "execution_count": null,
   "id": "09b692f2-2ca3-4d8d-aff5-d804cf8fa79a",
   "metadata": {},
   "outputs": [],
   "source": []
  }
 ],
 "metadata": {
  "kernelspec": {
   "display_name": "Python 3 (ipykernel)",
   "language": "python",
   "name": "python3"
  },
  "language_info": {
   "codemirror_mode": {
    "name": "ipython",
    "version": 3
   },
   "file_extension": ".py",
   "mimetype": "text/x-python",
   "name": "python",
   "nbconvert_exporter": "python",
   "pygments_lexer": "ipython3",
   "version": "3.8.8"
  }
 },
 "nbformat": 4,
 "nbformat_minor": 5
}
