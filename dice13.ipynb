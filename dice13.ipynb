{
 "cells": [
  {
   "cell_type": "code",
   "execution_count": 1,
   "id": "2c464c2c-b0ac-4c10-9b8b-d1c332b3c969",
   "metadata": {},
   "outputs": [],
   "source": [
    "import numpy as np\n"
   ]
  },
  {
   "cell_type": "code",
   "execution_count": 6,
   "id": "cacbb803-7c9d-432c-a88b-9a3d7e806496",
   "metadata": {},
   "outputs": [],
   "source": [
    "A = np.zeros( ( 7, 7 ) )\n",
    "for i in range( 1, 6 ):\n",
    "    A[ i, i ] = i / 6\n",
    "    for j in range( i + 1, 7 ):\n",
    "        A[ i, j ] = 1 / 6\n",
    "A[ 0 ] = A[ 1 ]\n",
    "A[ 6, 6 ] = 1"
   ]
  },
  {
   "cell_type": "code",
   "execution_count": 7,
   "id": "b45e9558-e9e7-4d52-9237-68c79d1dbbc6",
   "metadata": {},
   "outputs": [
    {
     "data": {
      "text/plain": [
       "array([[0.        , 0.16666667, 0.16666667, 0.16666667, 0.16666667,\n",
       "        0.16666667, 0.16666667],\n",
       "       [0.        , 0.16666667, 0.16666667, 0.16666667, 0.16666667,\n",
       "        0.16666667, 0.16666667],\n",
       "       [0.        , 0.        , 0.33333333, 0.16666667, 0.16666667,\n",
       "        0.16666667, 0.16666667],\n",
       "       [0.        , 0.        , 0.        , 0.5       , 0.16666667,\n",
       "        0.16666667, 0.16666667],\n",
       "       [0.        , 0.        , 0.        , 0.        , 0.66666667,\n",
       "        0.16666667, 0.16666667],\n",
       "       [0.        , 0.        , 0.        , 0.        , 0.        ,\n",
       "        0.83333333, 0.16666667],\n",
       "       [0.        , 0.        , 0.        , 0.        , 0.        ,\n",
       "        0.        , 1.        ]])"
      ]
     },
     "execution_count": 7,
     "metadata": {},
     "output_type": "execute_result"
    }
   ],
   "source": [
    "A"
   ]
  },
  {
   "cell_type": "code",
   "execution_count": 10,
   "id": "318d03d7-62ed-4d4b-94c3-c01f8c93cfa2",
   "metadata": {},
   "outputs": [
    {
     "name": "stdout",
     "output_type": "stream",
     "text": [
      "[0.00000000e+00 3.57224508e-06 4.53675126e-04 7.35525263e-03\n",
      " 5.07151635e-02 2.20553984e-01 7.20918353e-01]\n"
     ]
    }
   ],
   "source": [
    "print( np.linalg.matrix_power( A, 7 )[ 0 ] )"
   ]
  },
  {
   "cell_type": "code",
   "execution_count": null,
   "id": "c1a368f6-02a5-4369-8b14-26a20b40ad4f",
   "metadata": {},
   "outputs": [],
   "source": []
  }
 ],
 "metadata": {
  "kernelspec": {
   "display_name": "Python 3 (ipykernel)",
   "language": "python",
   "name": "python3"
  },
  "language_info": {
   "codemirror_mode": {
    "name": "ipython",
    "version": 3
   },
   "file_extension": ".py",
   "mimetype": "text/x-python",
   "name": "python",
   "nbconvert_exporter": "python",
   "pygments_lexer": "ipython3",
   "version": "3.8.8"
  }
 },
 "nbformat": 4,
 "nbformat_minor": 5
}
