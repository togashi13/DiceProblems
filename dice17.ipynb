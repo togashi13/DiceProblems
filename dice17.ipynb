{
 "cells": [
  {
   "cell_type": "code",
   "execution_count": 1,
   "id": "08c752c6-bbbd-44e8-9946-d28dd18b9308",
   "metadata": {},
   "outputs": [],
   "source": [
    "import math"
   ]
  },
  {
   "cell_type": "code",
   "execution_count": 19,
   "id": "417c1fbb-6703-4b57-adee-8c3a5747bc2d",
   "metadata": {},
   "outputs": [],
   "source": [
    "def six_n( n ):\n",
    "    temp = -1\n",
    "    p = 0\n",
    "    m = n # At least n rolls\n",
    "    while p > temp:\n",
    "        m += 1\n",
    "        temp = p\n",
    "        p = math.comb( m, n ) * 5 ** ( m - n ) / 6 ** m\n",
    "        print( m, p )\n",
    "    return m"
   ]
  },
  {
   "cell_type": "code",
   "execution_count": 20,
   "id": "cdae7c62-8e34-405b-b038-f014aa9c5f9a",
   "metadata": {},
   "outputs": [
    {
     "name": "stdout",
     "output_type": "stream",
     "text": [
      "2 0.2777777777777778\n",
      "3 0.3472222222222222\n",
      "4 0.38580246913580246\n",
      "5 0.4018775720164609\n",
      "6 0.4018775720164609\n"
     ]
    },
    {
     "data": {
      "text/plain": [
       "6"
      ]
     },
     "execution_count": 20,
     "metadata": {},
     "output_type": "execute_result"
    }
   ],
   "source": [
    "six_n( 1 )"
   ]
  },
  {
   "cell_type": "code",
   "execution_count": 21,
   "id": "08ba6dee-a142-4f16-a5b4-64071996c789",
   "metadata": {},
   "outputs": [
    {
     "name": "stdout",
     "output_type": "stream",
     "text": [
      "3 0.06944444444444445\n",
      "4 0.11574074074074074\n",
      "5 0.16075102880658437\n",
      "6 0.20093878600823045\n",
      "7 0.23442858367626887\n",
      "8 0.2604762040847432\n",
      "9 0.2790816472336534\n",
      "10 0.2907100492017223\n",
      "11 0.2960935686313838\n",
      "12 0.2960935686313838\n"
     ]
    },
    {
     "data": {
      "text/plain": [
       "12"
      ]
     },
     "execution_count": 21,
     "metadata": {},
     "output_type": "execute_result"
    }
   ],
   "source": [
    "six_n( 2 )"
   ]
  },
  {
   "cell_type": "code",
   "execution_count": 23,
   "id": "c79a66be-f9ff-494c-8cd4-767ea2be7dd6",
   "metadata": {},
   "outputs": [
    {
     "name": "stdout",
     "output_type": "stream",
     "text": [
      "5 0.0032150205761316874\n",
      "6 0.008037551440329218\n",
      "7 0.015628572245084592\n",
      "8 0.026047620408474317\n",
      "9 0.039071430612711476\n",
      "10 0.05426587585098816\n",
      "11 0.07106245647153211\n",
      "12 0.08882807058941515\n",
      "13 0.10692267756133304\n",
      "14 0.12474312382155522\n",
      "15 0.14175354979722185\n",
      "16 0.15750394421913538\n",
      "17 0.1716389135721347\n",
      "18 0.18389883597014434\n",
      "19 0.19411543796848568\n",
      "20 0.20220358121717258\n",
      "21 0.20815074537061884\n",
      "22 0.21200538880340808\n",
      "23 0.21386508519642042\n",
      "24 0.21386508519642042\n"
     ]
    },
    {
     "data": {
      "text/plain": [
       "24"
      ]
     },
     "execution_count": 23,
     "metadata": {},
     "output_type": "execute_result"
    }
   ],
   "source": [
    "six_n( 4 )"
   ]
  },
  {
   "cell_type": "code",
   "execution_count": null,
   "id": "8907c221-ed00-4b1e-8b09-c4a1cb714a25",
   "metadata": {},
   "outputs": [],
   "source": []
  }
 ],
 "metadata": {
  "kernelspec": {
   "display_name": "Python 3 (ipykernel)",
   "language": "python",
   "name": "python3"
  },
  "language_info": {
   "codemirror_mode": {
    "name": "ipython",
    "version": 3
   },
   "file_extension": ".py",
   "mimetype": "text/x-python",
   "name": "python",
   "nbconvert_exporter": "python",
   "pygments_lexer": "ipython3",
   "version": "3.8.8"
  }
 },
 "nbformat": 4,
 "nbformat_minor": 5
}
