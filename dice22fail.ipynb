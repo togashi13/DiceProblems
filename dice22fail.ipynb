{
 "cells": [
  {
   "cell_type": "code",
   "execution_count": 3,
   "id": "77592260-f14a-4c16-aed1-32e01b9f2f9d",
   "metadata": {},
   "outputs": [],
   "source": [
    "def state( l ):\n",
    "    return sum( [ l[ i ] * 2**i for i in range( 6 ) ] )"
   ]
  },
  {
   "cell_type": "code",
   "execution_count": 4,
   "id": "fe9c0527-aef7-4a42-a17d-e87e5dfecff9",
   "metadata": {},
   "outputs": [
    {
     "data": {
      "text/plain": [
       "21"
      ]
     },
     "execution_count": 4,
     "metadata": {},
     "output_type": "execute_result"
    }
   ],
   "source": [
    "state( [ 1,0,1,0,1,0 ] )"
   ]
  },
  {
   "cell_type": "code",
   "execution_count": 5,
   "id": "a49fc960-2ec3-4028-bc48-2d6ffeb33c54",
   "metadata": {},
   "outputs": [],
   "source": [
    "import numpy as np\n",
    "import math"
   ]
  },
  {
   "cell_type": "code",
   "execution_count": 6,
   "id": "d436dfa7-26c8-496d-b890-1bda318800b0",
   "metadata": {},
   "outputs": [],
   "source": [
    "A = np.zeros( ( 64, 64 ) )\n",
    "for a1 in range( 2 ):\n",
    "    for a2 in range( 2 ):\n",
    "        for a3 in range( 2 ):\n",
    "            for a4 in range( 2 ):\n",
    "                for a5 in range( 2 ):\n",
    "                    for a6 in range( 2 ):\n",
    "                      \n",
    "                        l = np.asarray( [ a1, a2, a3, a4, a5, a6 ] )\n",
    "                        if all( l == np.ones( 6 ) ):\n",
    "                            continue\n",
    "                        s = state( l )\n",
    "                      \n",
    "                        for i in range( 6 ):\n",
    "                            w = np.asarray( [ a1, a2, a3, a4, a5, a6 ] )\n",
    "                            if l[ i ] == 0:\n",
    "                                w[ i ] += 1\n",
    "                                ss = state( w )\n",
    "                                \n",
    "                            else:\n",
    "                                m = np.zeros( 6, dtype = int )\n",
    "                                m[ i ] = 1\n",
    "                                ss = state( m )\n",
    "                                \n",
    "                            A[ s, ss ] = 1 / 6\n",
    "                                "
   ]
  },
  {
   "cell_type": "code",
   "execution_count": 7,
   "id": "450d8a98-dce5-4308-9142-f49f68ff6bf0",
   "metadata": {},
   "outputs": [
    {
     "data": {
      "text/plain": [
       "array([0.        , 0.16666667, 0.16666667, 0.        , 0.        ,\n",
       "       0.        , 0.        , 0.16666667, 0.        , 0.        ,\n",
       "       0.        , 0.16666667, 0.        , 0.        , 0.        ,\n",
       "       0.        , 0.        , 0.        , 0.        , 0.16666667,\n",
       "       0.        , 0.        , 0.        , 0.        , 0.        ,\n",
       "       0.        , 0.        , 0.        , 0.        , 0.        ,\n",
       "       0.        , 0.        , 0.        , 0.        , 0.        ,\n",
       "       0.16666667, 0.        , 0.        , 0.        , 0.        ,\n",
       "       0.        , 0.        , 0.        , 0.        , 0.        ,\n",
       "       0.        , 0.        , 0.        , 0.        , 0.        ,\n",
       "       0.        , 0.        , 0.        , 0.        , 0.        ,\n",
       "       0.        , 0.        , 0.        , 0.        , 0.        ,\n",
       "       0.        , 0.        , 0.        , 0.        ])"
      ]
     },
     "execution_count": 7,
     "metadata": {},
     "output_type": "execute_result"
    }
   ],
   "source": [
    "A[3]"
   ]
  },
  {
   "cell_type": "code",
   "execution_count": 8,
   "id": "1474bbf7-720d-4815-b07e-89c4a1000a93",
   "metadata": {},
   "outputs": [
    {
     "data": {
      "text/plain": [
       "32"
      ]
     },
     "execution_count": 8,
     "metadata": {},
     "output_type": "execute_result"
    }
   ],
   "source": [
    "state( [ 0, 0, 0, 0, 0, 1 ] )"
   ]
  },
  {
   "cell_type": "code",
   "execution_count": 9,
   "id": "9ca7acef-3e46-4b83-b63b-85b87c7c8287",
   "metadata": {},
   "outputs": [
    {
     "data": {
      "text/plain": [
       "array([[179.8],\n",
       "       [178.8],\n",
       "       [178.8],\n",
       "       [177.6],\n",
       "       [178.8],\n",
       "       [177.6],\n",
       "       [177.6],\n",
       "       [175.5],\n",
       "       [178.8],\n",
       "       [177.6],\n",
       "       [177.6],\n",
       "       [175.5],\n",
       "       [177.6],\n",
       "       [175.5],\n",
       "       [175.5],\n",
       "       [170.2],\n",
       "       [178.8],\n",
       "       [177.6],\n",
       "       [177.6],\n",
       "       [175.5],\n",
       "       [177.6],\n",
       "       [175.5],\n",
       "       [175.5],\n",
       "       [170.2],\n",
       "       [177.6],\n",
       "       [175.5],\n",
       "       [175.5],\n",
       "       [170.2],\n",
       "       [175.5],\n",
       "       [170.2],\n",
       "       [170.2],\n",
       "       [150. ],\n",
       "       [178.8],\n",
       "       [177.6],\n",
       "       [177.6],\n",
       "       [175.5],\n",
       "       [177.6],\n",
       "       [175.5],\n",
       "       [175.5],\n",
       "       [170.2],\n",
       "       [177.6],\n",
       "       [175.5],\n",
       "       [175.5],\n",
       "       [170.2],\n",
       "       [175.5],\n",
       "       [170.2],\n",
       "       [170.2],\n",
       "       [150. ],\n",
       "       [177.6],\n",
       "       [175.5],\n",
       "       [175.5],\n",
       "       [170.2],\n",
       "       [175.5],\n",
       "       [170.2],\n",
       "       [170.2],\n",
       "       [150. ],\n",
       "       [175.5],\n",
       "       [170.2],\n",
       "       [170.2],\n",
       "       [150. ],\n",
       "       [170.2],\n",
       "       [150. ],\n",
       "       [150. ]])"
      ]
     },
     "execution_count": 9,
     "metadata": {},
     "output_type": "execute_result"
    }
   ],
   "source": [
    "np.linalg.inv( np.identity(63) - A[ : -1, : -1 ] ) @ np.ones( ( 63, 1 ) )"
   ]
  },
  {
   "cell_type": "code",
   "execution_count": 10,
   "id": "072ac631-500b-4058-a9d8-419f064e9143",
   "metadata": {},
   "outputs": [],
   "source": [
    "w = l"
   ]
  },
  {
   "cell_type": "code",
   "execution_count": 11,
   "id": "a07e4815-397a-4da2-a203-9653c63b8d75",
   "metadata": {},
   "outputs": [
    {
     "data": {
      "text/plain": [
       "array([1., 0., 0., 0., 0., 0.])"
      ]
     },
     "execution_count": 11,
     "metadata": {},
     "output_type": "execute_result"
    }
   ],
   "source": [
    "w[0]+=1\n",
    "w"
   ]
  },
  {
   "cell_type": "code",
   "execution_count": 28,
   "id": "1b33ab9f-f067-46d7-8474-04b1a5ac8071",
   "metadata": {},
   "outputs": [
    {
     "data": {
      "text/plain": [
       "63"
      ]
     },
     "execution_count": 28,
     "metadata": {},
     "output_type": "execute_result"
    }
   ],
   "source": [
    "state( [ 1, 1, 1, 1, 1, 1] )"
   ]
  },
  {
   "cell_type": "code",
   "execution_count": 39,
   "id": "fa4ab855-532a-44e1-aa9b-9a21c18f99f5",
   "metadata": {},
   "outputs": [
    {
     "data": {
      "text/plain": [
       "0.6651020233196159"
      ]
     },
     "execution_count": 39,
     "metadata": {},
     "output_type": "execute_result"
    }
   ],
   "source": [
    "1-(5/6)**6"
   ]
  },
  {
   "cell_type": "code",
   "execution_count": 43,
   "id": "434e5bb4-2559-4df5-aaf3-c185165c9250",
   "metadata": {},
   "outputs": [
    {
     "data": {
      "text/plain": [
       "0.6186673737323085"
      ]
     },
     "execution_count": 43,
     "metadata": {},
     "output_type": "execute_result"
    }
   ],
   "source": [
    "1-((5/6)**12+math.comb(12,1)*(1/6)*(5/6)**11)"
   ]
  },
  {
   "cell_type": "code",
   "execution_count": 44,
   "id": "5f448cf1-027e-47ee-acfe-a856f75ffcea",
   "metadata": {},
   "outputs": [
    {
     "data": {
      "text/plain": [
       "0.5973456859477229"
      ]
     },
     "execution_count": 44,
     "metadata": {},
     "output_type": "execute_result"
    }
   ],
   "source": [
    "1-((5/6)**18+math.comb(18,1)*(1/6)*(5/6)**17+math.comb(18,2)*(1/6)**2*(5/6)**16)"
   ]
  },
  {
   "cell_type": "code",
   "execution_count": null,
   "id": "eda6851d-3df0-4add-83cc-e7cb05af9d49",
   "metadata": {},
   "outputs": [],
   "source": []
  }
 ],
 "metadata": {
  "kernelspec": {
   "display_name": "Python 3 (ipykernel)",
   "language": "python",
   "name": "python3"
  },
  "language_info": {
   "codemirror_mode": {
    "name": "ipython",
    "version": 3
   },
   "file_extension": ".py",
   "mimetype": "text/x-python",
   "name": "python",
   "nbconvert_exporter": "python",
   "pygments_lexer": "ipython3",
   "version": "3.8.8"
  }
 },
 "nbformat": 4,
 "nbformat_minor": 5
}
